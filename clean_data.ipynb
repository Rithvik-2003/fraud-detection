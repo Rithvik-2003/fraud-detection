{
 "cells": [
  {
   "cell_type": "code",
   "execution_count": 1,
   "metadata": {},
   "outputs": [
    {
     "data": {
      "text/html": [
       "<div>\n",
       "<style scoped>\n",
       "    .dataframe tbody tr th:only-of-type {\n",
       "        vertical-align: middle;\n",
       "    }\n",
       "\n",
       "    .dataframe tbody tr th {\n",
       "        vertical-align: top;\n",
       "    }\n",
       "\n",
       "    .dataframe thead th {\n",
       "        text-align: right;\n",
       "    }\n",
       "</style>\n",
       "<table border=\"1\" class=\"dataframe\">\n",
       "  <thead>\n",
       "    <tr style=\"text-align: right;\">\n",
       "      <th></th>\n",
       "      <th>Primary key</th>\n",
       "      <th>Target</th>\n",
       "      <th>account_opening_date</th>\n",
       "      <th>country_code</th>\n",
       "      <th>demog_1</th>\n",
       "      <th>demog_2</th>\n",
       "      <th>income</th>\n",
       "      <th>demog_3</th>\n",
       "      <th>city_tier</th>\n",
       "      <th>occupation</th>\n",
       "      <th>...</th>\n",
       "      <th>demog_39</th>\n",
       "      <th>email_domain</th>\n",
       "      <th>demog_40</th>\n",
       "      <th>demog_41</th>\n",
       "      <th>others_42</th>\n",
       "      <th>others_43</th>\n",
       "      <th>others_44</th>\n",
       "      <th>others_45</th>\n",
       "      <th>demog_42</th>\n",
       "      <th>demog_43</th>\n",
       "    </tr>\n",
       "  </thead>\n",
       "  <tbody>\n",
       "    <tr>\n",
       "      <th>0</th>\n",
       "      <td>1</td>\n",
       "      <td>0</td>\n",
       "      <td>2023-02-18</td>\n",
       "      <td>IN</td>\n",
       "      <td>53.0</td>\n",
       "      <td>3</td>\n",
       "      <td>100001 to 5L</td>\n",
       "      <td>101.0</td>\n",
       "      <td>Rural</td>\n",
       "      <td>Self_Employed</td>\n",
       "      <td>...</td>\n",
       "      <td>1</td>\n",
       "      <td>gmail</td>\n",
       "      <td>low</td>\n",
       "      <td>1</td>\n",
       "      <td>NaN</td>\n",
       "      <td>0.0</td>\n",
       "      <td>NaN</td>\n",
       "      <td>NaN</td>\n",
       "      <td>1</td>\n",
       "      <td>medium</td>\n",
       "    </tr>\n",
       "    <tr>\n",
       "      <th>1</th>\n",
       "      <td>2</td>\n",
       "      <td>0</td>\n",
       "      <td>2023-02-01</td>\n",
       "      <td>IN</td>\n",
       "      <td>55.0</td>\n",
       "      <td>1</td>\n",
       "      <td>0 to 1L</td>\n",
       "      <td>101.0</td>\n",
       "      <td>Tier 1</td>\n",
       "      <td>Salaried</td>\n",
       "      <td>...</td>\n",
       "      <td>1</td>\n",
       "      <td>gmail</td>\n",
       "      <td>High</td>\n",
       "      <td>1</td>\n",
       "      <td>NaN</td>\n",
       "      <td>NaN</td>\n",
       "      <td>NaN</td>\n",
       "      <td>NaN</td>\n",
       "      <td>1</td>\n",
       "      <td>High</td>\n",
       "    </tr>\n",
       "    <tr>\n",
       "      <th>2</th>\n",
       "      <td>3</td>\n",
       "      <td>0</td>\n",
       "      <td>2022-12-09</td>\n",
       "      <td>IN</td>\n",
       "      <td>55.0</td>\n",
       "      <td>3</td>\n",
       "      <td>0 to 1L</td>\n",
       "      <td>101.0</td>\n",
       "      <td>Tier 2</td>\n",
       "      <td>Self_Employed</td>\n",
       "      <td>...</td>\n",
       "      <td>1</td>\n",
       "      <td>gmail</td>\n",
       "      <td>medium</td>\n",
       "      <td>1</td>\n",
       "      <td>NaN</td>\n",
       "      <td>NaN</td>\n",
       "      <td>NaN</td>\n",
       "      <td>NaN</td>\n",
       "      <td>1</td>\n",
       "      <td>High</td>\n",
       "    </tr>\n",
       "    <tr>\n",
       "      <th>3</th>\n",
       "      <td>4</td>\n",
       "      <td>0</td>\n",
       "      <td>2023-03-31</td>\n",
       "      <td>IN</td>\n",
       "      <td>53.0</td>\n",
       "      <td>3</td>\n",
       "      <td>100001 to 5L</td>\n",
       "      <td>101.0</td>\n",
       "      <td>Tier 7</td>\n",
       "      <td>Self_Employed</td>\n",
       "      <td>...</td>\n",
       "      <td>1</td>\n",
       "      <td>gmail</td>\n",
       "      <td>High</td>\n",
       "      <td>1</td>\n",
       "      <td>NaN</td>\n",
       "      <td>NaN</td>\n",
       "      <td>NaN</td>\n",
       "      <td>NaN</td>\n",
       "      <td>1</td>\n",
       "      <td>High</td>\n",
       "    </tr>\n",
       "    <tr>\n",
       "      <th>4</th>\n",
       "      <td>5</td>\n",
       "      <td>0</td>\n",
       "      <td>2023-01-17</td>\n",
       "      <td>IN</td>\n",
       "      <td>55.0</td>\n",
       "      <td>6</td>\n",
       "      <td>0 to 1L</td>\n",
       "      <td>101.0</td>\n",
       "      <td>Tier 1</td>\n",
       "      <td>Student</td>\n",
       "      <td>...</td>\n",
       "      <td>1</td>\n",
       "      <td>gmail</td>\n",
       "      <td>low</td>\n",
       "      <td>1</td>\n",
       "      <td>NaN</td>\n",
       "      <td>NaN</td>\n",
       "      <td>NaN</td>\n",
       "      <td>NaN</td>\n",
       "      <td>1</td>\n",
       "      <td>medium</td>\n",
       "    </tr>\n",
       "  </tbody>\n",
       "</table>\n",
       "<p>5 rows × 178 columns</p>\n",
       "</div>"
      ],
      "text/plain": [
       "   Primary key  Target account_opening_date country_code  demog_1 demog_2  \\\n",
       "0            1       0           2023-02-18           IN     53.0       3   \n",
       "1            2       0           2023-02-01           IN     55.0       1   \n",
       "2            3       0           2022-12-09           IN     55.0       3   \n",
       "3            4       0           2023-03-31           IN     53.0       3   \n",
       "4            5       0           2023-01-17           IN     55.0       6   \n",
       "\n",
       "         income  demog_3 city_tier     occupation  ... demog_39  email_domain  \\\n",
       "0  100001 to 5L    101.0     Rural  Self_Employed  ...        1         gmail   \n",
       "1       0 to 1L    101.0    Tier 1       Salaried  ...        1         gmail   \n",
       "2       0 to 1L    101.0    Tier 2  Self_Employed  ...        1         gmail   \n",
       "3  100001 to 5L    101.0    Tier 7  Self_Employed  ...        1         gmail   \n",
       "4       0 to 1L    101.0    Tier 1        Student  ...        1         gmail   \n",
       "\n",
       "   demog_40  demog_41  others_42  others_43 others_44  others_45  demog_42  \\\n",
       "0       low         1        NaN        0.0       NaN        NaN         1   \n",
       "1      High         1        NaN        NaN       NaN        NaN         1   \n",
       "2    medium         1        NaN        NaN       NaN        NaN         1   \n",
       "3      High         1        NaN        NaN       NaN        NaN         1   \n",
       "4       low         1        NaN        NaN       NaN        NaN         1   \n",
       "\n",
       "   demog_43  \n",
       "0    medium  \n",
       "1      High  \n",
       "2      High  \n",
       "3      High  \n",
       "4    medium  \n",
       "\n",
       "[5 rows x 178 columns]"
      ]
     },
     "execution_count": 1,
     "metadata": {},
     "output_type": "execute_result"
    }
   ],
   "source": [
    "# Import the libraries and the data\n",
    "import pandas as pd\n",
    "import numpy as np\n",
    "\n",
    "file_path = 'Dev_data_to_be_shared.xlsx'\n",
    "df = pd.read_excel(file_path)\n",
    "df_og = df.copy()\n",
    "df.head()"
   ]
  },
  {
   "cell_type": "code",
   "execution_count": 2,
   "metadata": {},
   "outputs": [],
   "source": [
    "# Check for NaN values in each column\n",
    "columns_with_nan = df.columns[df.isnull().any()]\n",
    "\n",
    "# Extract the columns with NaN values\n",
    "df_columns_with_nan = df[columns_with_nan]"
   ]
  },
  {
   "cell_type": "code",
   "execution_count": 3,
   "metadata": {},
   "outputs": [],
   "source": [
    "nan_percentage = df.isnull().mean() * 100\n",
    "\n",
    "# Identify columns with more than half NaN values (i.e., > 50%)\n",
    "columns_with_more_than_half_nans = nan_percentage[nan_percentage > 50].index\n",
    "\n",
    "# Print the identified columns\n",
    "# print(columns_with_more_than_half_nans)\n",
    "\n",
    "columns_with_nan = nan_percentage.index"
   ]
  },
  {
   "cell_type": "code",
   "execution_count": 4,
   "metadata": {},
   "outputs": [
    {
     "name": "stdout",
     "output_type": "stream",
     "text": [
      "Primary key                 0\n",
      "others_2                    0\n",
      "others_12                   0\n",
      "others_13                   0\n",
      "others_14                   0\n",
      "others_18                   0\n",
      "others_1                    0\n",
      "others_33                   0\n",
      "others_34                   0\n",
      "others_35                   0\n",
      "others_36                   0\n",
      "others_37                   0\n",
      "others_38                   0\n",
      "others_39                   0\n",
      "demog_42                    0\n",
      "Target                      0\n",
      "demog_39                    0\n",
      "account_opening_date        0\n",
      "demog_41                    0\n",
      "email_domain                0\n",
      "others_41                   1\n",
      "demog_27                    1\n",
      "demog_28                    1\n",
      "demog_29                    1\n",
      "others_32                   1\n",
      "others_31                   1\n",
      "others_30                   1\n",
      "others_29                   1\n",
      "others_20                   1\n",
      "others_19                   1\n",
      "demog_23                    1\n",
      "demog_25                    1\n",
      "demog_18                    1\n",
      "others_40                   1\n",
      "demog_22                    1\n",
      "demog_11                    1\n",
      "demog_12                    1\n",
      "demog_21                    1\n",
      "demog_20                    1\n",
      "demog_19                    1\n",
      "demog_6                     1\n",
      "demog_17                    1\n",
      "others_3                    1\n",
      "others_4                    1\n",
      "occupation                  2\n",
      "others_8                    3\n",
      "others_7                    3\n",
      "others_11                   3\n",
      "others_10                   3\n",
      "others_6                    3\n",
      "others_9                    3\n",
      "demog_30                    3\n",
      "demog_38                    3\n",
      "demog_31                    3\n",
      "demog_32                    3\n",
      "demog_33                    3\n",
      "demog_34                    3\n",
      "demog_35                    3\n",
      "demog_36                    3\n",
      "demog_37                    3\n",
      "demog_10                    4\n",
      "demog_7                     6\n",
      "income                      6\n",
      "demog_3                     6\n",
      "others_28                   9\n",
      "others_27                   9\n",
      "demog_5                    25\n",
      "demog_26                  294\n",
      "demog_24                  294\n",
      "demog_16                 3016\n",
      "demog_15                 3016\n",
      "demog_14                 3016\n",
      "demog_13                 3016\n",
      "country_code             3666\n",
      "demog_2                  3668\n",
      "demog_1                  3669\n",
      "demog_43                 3705\n",
      "demog_8                  3751\n",
      "demog_40                 3813\n",
      "city_tier                4250\n",
      "demog_4                  8841\n",
      "demog_9                 12914\n",
      "others_5                16818\n",
      "others_25               17287\n",
      "others_26               17287\n",
      "others_24               17287\n",
      "others_23               17287\n",
      "others_21               17287\n",
      "others_22               17287\n",
      "os                      24604\n",
      "txn_25                  25794\n",
      "txn_23                  25794\n",
      "txn_22                  25794\n",
      "txn_24                  25794\n",
      "txn_26                  25794\n",
      "txn_48                  25794\n",
      "txn_28                  25794\n",
      "txn_29                  25794\n",
      "txn_21                  25794\n",
      "txn_30                  25794\n",
      "txn_27                  25794\n",
      "txn_20                  25794\n",
      "txn_16                  25794\n",
      "txn_18                  25794\n",
      "txn_1                   25794\n",
      "txn_2                   25794\n",
      "txn_3                   25794\n",
      "txn_4                   25794\n",
      "txn_5                   25794\n",
      "txn_6                   25794\n",
      "txn_7                   25794\n",
      "txn_8                   25794\n",
      "txn_9                   25794\n",
      "txn_10                  25794\n",
      "txn_11                  25794\n",
      "txn_12                  25794\n",
      "txn_13                  25794\n",
      "txn_14                  25794\n",
      "txn_15                  25794\n",
      "txn_47                  25794\n",
      "txn_17                  25794\n",
      "txn_19                  25794\n",
      "txn_32                  25794\n",
      "txn_31                  25794\n",
      "txn_68                  25794\n",
      "txn_69                  25794\n",
      "txn_67                  25794\n",
      "txn_66                  25794\n",
      "txn_65                  25794\n",
      "txn_64                  25794\n",
      "txn_63                  25794\n",
      "txn_62                  25794\n",
      "txn_61                  25794\n",
      "txn_60                  25794\n",
      "txn_70                  25794\n",
      "txn_46                  25794\n",
      "txn_57                  25794\n",
      "txn_56                  25794\n",
      "txn_55                  25794\n",
      "txn_54                  25794\n",
      "txn_53                  25794\n",
      "txn_52                  25794\n",
      "txn_51                  25794\n",
      "txn_50                  25794\n",
      "txn_49                  25794\n",
      "txn_58                  25794\n",
      "txn_71                  25794\n",
      "txn_59                  25794\n",
      "txn_73                  25794\n",
      "txn_33                  25794\n",
      "txn_34                  25794\n",
      "txn_35                  25794\n",
      "txn_36                  25794\n",
      "txn_37                  25794\n",
      "txn_38                  25794\n",
      "txn_72                  25794\n",
      "txn_40                  25794\n",
      "txn_41                  25794\n",
      "txn_42                  25794\n",
      "txn_39                  25794\n",
      "txn_44                  25794\n",
      "txn_74                  25794\n",
      "txn_43                  25794\n",
      "txn_76                  25794\n",
      "txn_75                  25794\n",
      "txn_45                  25794\n",
      "others_15               41365\n",
      "others_17               41365\n",
      "others_16               41365\n",
      "txn_79                  44956\n",
      "txn_77                  45424\n",
      "txn_81                  51465\n",
      "txn_78                  56728\n",
      "txn_80                  57478\n",
      "others_43               95421\n",
      "others_42               97895\n",
      "others_44               99126\n",
      "others_45               99306\n",
      "dtype: int64\n"
     ]
    }
   ],
   "source": [
    "import pandas as pd\n",
    "\n",
    "# List of columns with more than half NaN values\n",
    "columns_with_more_than_half_nans = ['txn_78', 'txn_80', 'txn_81', 'others_42', 'others_43', 'others_44', 'others_45']\n",
    "\n",
    "\n",
    "# Count the number of NaN values in each specified column\n",
    "nan_counts = df[columns_with_nan].isnull().sum()\n",
    "\n",
    "# Set display options to show all rows\n",
    "pd.set_option('display.max_rows', None)\n",
    "\n",
    "# Sort the Series in ascending order\n",
    "sorted_nan_counts = nan_counts.sort_values()\n",
    "\n",
    "# Print the sorted Series\n",
    "print(sorted_nan_counts)"
   ]
  },
  {
   "cell_type": "code",
   "execution_count": 5,
   "metadata": {},
   "outputs": [],
   "source": [
    "mode = df['others_41'].mode()\n",
    "\n",
    "# Extract the mode value from the Series\n",
    "mode_value = mode.iloc[0]  \n",
    "\n",
    "# Fill missing values with the mode value\n",
    "df['others_41'].fillna(mode_value, inplace=True)"
   ]
  },
  {
   "cell_type": "code",
   "execution_count": 6,
   "metadata": {},
   "outputs": [],
   "source": [
    "arr = df['demog_27'].values\n",
    "non_zero_indices = np.nonzero(arr)\n",
    "non_zero_values = arr[non_zero_indices]\n",
    "\n",
    "mode = df['demog_27'].mode()\n",
    "mode_value = mode.iloc[0]  \n",
    "df['demog_27'].fillna(mode_value, inplace=True)"
   ]
  },
  {
   "cell_type": "code",
   "execution_count": 7,
   "metadata": {},
   "outputs": [],
   "source": [
    "mode = df['demog_28'].mode()\n",
    "# Extract the mode value from the Series\n",
    "mode_value = mode.iloc[0]  \n",
    "\n",
    "# Fill missing values with the mode value\n",
    "df['demog_28'].fillna(mode_value, inplace=True)"
   ]
  },
  {
   "cell_type": "code",
   "execution_count": 8,
   "metadata": {},
   "outputs": [],
   "source": [
    "mode = df['demog_29'].mode()\n",
    "# Extract the mode value from the Series\n",
    "mode_value = mode.iloc[0]  \n",
    "\n",
    "# Fill missing values with the mode value\n",
    "df['demog_29'].fillna(mode_value, inplace=True)"
   ]
  },
  {
   "cell_type": "code",
   "execution_count": 9,
   "metadata": {},
   "outputs": [],
   "source": [
    "arr = df['others_32'].values\n",
    "non_zero_indices = np.nonzero(arr)\n",
    "non_zero_values = arr[non_zero_indices]\n",
    "\n",
    "mode = df['others_32'].mode()\n",
    "# Extract the mode value from the Series\n",
    "mode_value = mode.iloc[0]  \n",
    "\n",
    "# Fill missing values with the mode value\n",
    "df['others_32'].fillna(mode_value, inplace=True)"
   ]
  },
  {
   "cell_type": "code",
   "execution_count": 10,
   "metadata": {},
   "outputs": [],
   "source": [
    "arr = df['others_31'].values\n",
    "non_zero_indices = np.nonzero(arr)\n",
    "non_zero_values = arr[non_zero_indices]\n",
    "\n",
    "mode = df['others_31'].mode()\n",
    "# Extract the mode value from the Series\n",
    "mode_value = mode.iloc[0]  \n",
    "\n",
    "# Fill missing values with the mode value\n",
    "df['others_31'].fillna(mode_value, inplace=True)"
   ]
  },
  {
   "cell_type": "code",
   "execution_count": 11,
   "metadata": {},
   "outputs": [],
   "source": [
    "arr = df['others_30'].values\n",
    "non_zero_indices = np.nonzero(arr)\n",
    "non_zero_values = arr[non_zero_indices]\n",
    "\n",
    "mode = df['others_30'].mode()\n",
    "# Extract the mode value from the Series\n",
    "mode_value = mode.iloc[0]  \n",
    "# Fill missing values with the mode value\n",
    "df['others_30'].fillna(mode_value, inplace=True)"
   ]
  },
  {
   "cell_type": "code",
   "execution_count": 12,
   "metadata": {},
   "outputs": [],
   "source": [
    "arr = df['others_29'].values\n",
    "non_zero_indices = np.nonzero(arr)\n",
    "non_zero_values = arr[non_zero_indices]\n",
    "\n",
    "mode = df['others_29'].mode()\n",
    "# Extract the mode value from the Series\n",
    "mode_value = mode.iloc[0]  \n",
    "# Fill missing values with the mode value\n",
    "df['others_29'].fillna(mode_value, inplace=True)"
   ]
  },
  {
   "cell_type": "code",
   "execution_count": 13,
   "metadata": {},
   "outputs": [],
   "source": [
    "arr = df['others_20'].values\n",
    "non_zero_indices = np.nonzero(arr)\n",
    "non_zero_values = arr[non_zero_indices]\n",
    "\n",
    "mode = df['others_20'].mode()\n",
    "# Extract the mode value from the Series\n",
    "mode_value = mode.iloc[0]  \n",
    "# Fill missing values with the mode value\n",
    "df['others_20'].fillna(mode_value, inplace=True)"
   ]
  },
  {
   "cell_type": "code",
   "execution_count": 14,
   "metadata": {},
   "outputs": [],
   "source": [
    "arr = df['others_19'].values\n",
    "non_zero_indices = np.nonzero(arr)\n",
    "non_zero_values = arr[non_zero_indices]\n",
    "\n",
    "mode = df['others_19'].mode()\n",
    "# Extract the mode value from the Series\n",
    "mode_value = mode.iloc[0]  \n",
    "# Fill missing values with the mode value\n",
    "df['others_19'].fillna(mode_value, inplace=True)"
   ]
  },
  {
   "cell_type": "code",
   "execution_count": 15,
   "metadata": {},
   "outputs": [],
   "source": [
    "mean = df['demog_23'].mode()\n",
    "# Extract the mode value from the Series\n",
    "mean_value = mean.iloc[0]  \n",
    "# Fill missing values with the mode value\n",
    "df['demog_23'].fillna(mean_value, inplace=True)"
   ]
  },
  {
   "cell_type": "code",
   "execution_count": 16,
   "metadata": {},
   "outputs": [],
   "source": [
    "arr = df['demog_25'].values\n",
    "non_zero_indices = np.nonzero(arr)\n",
    "non_zero_values = arr[non_zero_indices]\n",
    "\n",
    "mode = df['demog_25'].mode()\n",
    "# Extract the mode value from the Series\n",
    "mode_value = mode.iloc[0]  \n",
    "# Fill missing values with the mode value\n",
    "df['demog_25'].fillna(mode_value, inplace=True)"
   ]
  },
  {
   "cell_type": "code",
   "execution_count": 17,
   "metadata": {},
   "outputs": [],
   "source": [
    "arr = df['demog_18'].values\n",
    "non_zero_indices = np.nonzero(arr)\n",
    "non_zero_values = arr[non_zero_indices]\n",
    "\n",
    "mode = df['demog_18'].mode()\n",
    "mode_value = mode.iloc[0]  \n",
    "\n",
    "# Fill missing values with the mode value\n",
    "df['demog_18'].fillna(mode_value, inplace=True)"
   ]
  },
  {
   "cell_type": "code",
   "execution_count": 18,
   "metadata": {},
   "outputs": [],
   "source": [
    "arr = df['others_40'].values\n",
    "non_zero_indices = np.nonzero(arr)\n",
    "non_zero_values = arr[non_zero_indices]\n",
    "\n",
    "mode = df['others_40'].mode()\n",
    "mode_value = mode.iloc[0]  \n",
    "\n",
    "# Fill missing values with the mode value\n",
    "df['others_40'].fillna(mode_value, inplace=True)"
   ]
  },
  {
   "cell_type": "code",
   "execution_count": 19,
   "metadata": {},
   "outputs": [
    {
     "data": {
      "text/plain": [
       "array(['Y', 'N', nan], dtype=object)"
      ]
     },
     "execution_count": 19,
     "metadata": {},
     "output_type": "execute_result"
    }
   ],
   "source": [
    "unique_strings = df['demog_22'].unique()\n",
    "unique_strings"
   ]
  },
  {
   "cell_type": "code",
   "execution_count": 20,
   "metadata": {},
   "outputs": [],
   "source": [
    "df['demog_22'] = df['demog_22'].replace({'Y': 1, 'N': 0})"
   ]
  },
  {
   "cell_type": "code",
   "execution_count": 21,
   "metadata": {},
   "outputs": [],
   "source": [
    "arr = df['demog_22'].values\n",
    "non_zero_indices = np.nonzero(arr)\n",
    "non_zero_values = arr[non_zero_indices]\n",
    "\n",
    "mode = df['demog_22'].mode()\n",
    "mode_value = mode.iloc[0]  \n",
    "\n",
    "# Fill missing values with the mode value\n",
    "df['demog_22'].fillna(mode_value, inplace=True)"
   ]
  },
  {
   "cell_type": "code",
   "execution_count": 22,
   "metadata": {},
   "outputs": [],
   "source": [
    "arr = df['demog_11'].values\n",
    "non_zero_indices = np.nonzero(arr)\n",
    "non_zero_values = arr[non_zero_indices]\n",
    "\n",
    "mode = df['demog_11'].mode()\n",
    "mode_value = mode.iloc[0]  \n",
    "\n",
    "# Fill missing values with the mode value\n",
    "df['demog_11'].fillna(mode_value, inplace=True)"
   ]
  },
  {
   "cell_type": "code",
   "execution_count": 23,
   "metadata": {},
   "outputs": [],
   "source": [
    "arr = df['demog_12'].values\n",
    "non_zero_indices = np.nonzero(arr)\n",
    "non_zero_values = arr[non_zero_indices]\n",
    "\n",
    "mode = df['demog_12'].mode()\n",
    "mode_value = mode.iloc[0]  \n",
    "\n",
    "# Fill missing values with the mode value\n",
    "df['demog_12'].fillna(mode_value, inplace=True)"
   ]
  },
  {
   "cell_type": "code",
   "execution_count": 24,
   "metadata": {},
   "outputs": [],
   "source": [
    "arr = df['demog_21'].values\n",
    "non_zero_indices = np.nonzero(arr)\n",
    "non_zero_values = arr[non_zero_indices]\n",
    "\n",
    "mode = df['demog_21'].mode()\n",
    "mode_value = mode.iloc[0]  \n",
    "\n",
    "# Fill missing values with the mode value\n",
    "df['demog_21'].fillna(mode_value, inplace=True)"
   ]
  },
  {
   "cell_type": "code",
   "execution_count": 25,
   "metadata": {},
   "outputs": [],
   "source": [
    "arr = df['demog_20'].values\n",
    "non_zero_indices = np.nonzero(arr)\n",
    "non_zero_values = arr[non_zero_indices]\n",
    "# print(non_zero_values.size)\n",
    "\n",
    "mode = df['demog_20'].mode()\n",
    "mode_value = mode.iloc[0]  \n",
    "\n",
    "# Fill missing values with the mode value\n",
    "df['demog_20'].fillna(mode_value, inplace=True)"
   ]
  },
  {
   "cell_type": "code",
   "execution_count": 26,
   "metadata": {},
   "outputs": [],
   "source": [
    "arr = df['demog_19'].values\n",
    "non_zero_indices = np.nonzero(arr)\n",
    "non_zero_values = arr[non_zero_indices]\n",
    "# print(non_zero_values.size)\n",
    "\n",
    "mode = df['demog_19'].mode()\n",
    "mode_value = mode.iloc[0]  \n",
    "\n",
    "# Fill missing values with the mode value\n",
    "df['demog_19'].fillna(mode_value, inplace=True)"
   ]
  },
  {
   "cell_type": "code",
   "execution_count": 27,
   "metadata": {},
   "outputs": [],
   "source": [
    "arr = df['demog_6'].values\n",
    "non_zero_indices = np.nonzero(arr)\n",
    "non_zero_values = arr[non_zero_indices]\n",
    "\n",
    "mode = df['demog_6'].mode()\n",
    "mode_value = mode.iloc[0]  \n",
    "\n",
    "# Fill missing values with the mode value\n",
    "df['demog_6'].fillna(mode_value, inplace=True)"
   ]
  },
  {
   "cell_type": "code",
   "execution_count": 28,
   "metadata": {},
   "outputs": [],
   "source": [
    "arr = df['demog_17'].values\n",
    "non_zero_indices = np.nonzero(arr)\n",
    "non_zero_values = arr[non_zero_indices]\n",
    "\n",
    "mode = df['demog_17'].mode()\n",
    "mode_value = mode.iloc[0]  \n",
    "\n",
    "# Fill missing values with the mode value\n",
    "df['demog_17'].fillna(mode_value, inplace=True)"
   ]
  },
  {
   "cell_type": "code",
   "execution_count": 29,
   "metadata": {},
   "outputs": [],
   "source": [
    "arr = df['others_3'].values\n",
    "non_zero_indices = np.nonzero(arr)\n",
    "non_zero_values = arr[non_zero_indices]\n",
    "\n",
    "mode = df['others_3'].mode()\n",
    "mode_value = mode.iloc[0]  \n",
    "\n",
    "# Fill missing values with the mode value\n",
    "df['others_3'].fillna(mode_value, inplace=True)"
   ]
  },
  {
   "cell_type": "code",
   "execution_count": 30,
   "metadata": {},
   "outputs": [],
   "source": [
    "arr = df['others_4'].values\n",
    "non_zero_indices = np.nonzero(arr)\n",
    "non_zero_values = arr[non_zero_indices]\n",
    "\n",
    "mode = df['others_4'].mode()\n",
    "mode_value = mode.iloc[0]  \n",
    "\n",
    "# Fill missing values with the mode value\n",
    "df['others_4'].fillna(mode_value, inplace=True)"
   ]
  },
  {
   "cell_type": "code",
   "execution_count": 31,
   "metadata": {},
   "outputs": [
    {
     "name": "stdout",
     "output_type": "stream",
     "text": [
      "['Self_Employed' 'Salaried' 'Student' 'Other' 'Retired' 'Homemaker'\n",
      " 'Minor' 'Unemployed' nan]\n"
     ]
    }
   ],
   "source": [
    "unique_strings = df['occupation'].unique()\n",
    "print(unique_strings)\n",
    "\n",
    "# Define a mapping dictionary for replacing strings with numerical values\n",
    "occupation_mapping = {\n",
    "    'Self_Employed': 1,\n",
    "    'Salaried': 2,\n",
    "    'Student': 3,\n",
    "    'Other': 4,\n",
    "    'Retired': 5,\n",
    "    'Homemaker': 6,\n",
    "    'Minor': 7,\n",
    "    'Unemployed': 8\n",
    "}\n",
    "\n",
    "# Fill NaN values in the 'occupation' column with a default numerical value (e.g., 0)\n",
    "df['occupation'] = df['occupation'].fillna(0)\n",
    "\n",
    "# Replace the remaining string values in the 'occupation' column with numerical values\n",
    "df['occupation'] = df['occupation'].replace(occupation_mapping)\n"
   ]
  },
  {
   "cell_type": "code",
   "execution_count": 32,
   "metadata": {},
   "outputs": [],
   "source": [
    "arr = df['others_3'].values\n",
    "non_zero_indices = np.nonzero(arr)\n",
    "non_zero_values = arr[non_zero_indices]\n",
    "# np.unique(non_zero_values)\n",
    "# non_zero_values.size\n",
    "\n",
    "mode = df['others_3'].mode()\n",
    "mode_value = mode.iloc[0]  \n",
    "\n",
    "# Fill missing values with the mode value\n",
    "df['others_3'].fillna(mode_value, inplace=True)"
   ]
  },
  {
   "cell_type": "code",
   "execution_count": 33,
   "metadata": {},
   "outputs": [],
   "source": [
    "np.set_printoptions(suppress=True)\n",
    "arr = df['others_7'].values\n",
    "\n",
    "non_zero_indices = np.nonzero(arr)\n",
    "non_zero_values = arr[non_zero_indices]\n",
    "np.unique(non_zero_values)\n",
    "# non_zero_values.size\n",
    "\n",
    "# Calculate median of 'others_7' column\n",
    "median_value = df['others_7'].median()\n",
    "\n",
    "# Fill missing values in 'others_7' column with the median value\n",
    "df['others_7'].fillna(median_value, inplace=True)"
   ]
  },
  {
   "cell_type": "code",
   "execution_count": 34,
   "metadata": {},
   "outputs": [],
   "source": [
    "np.set_printoptions(suppress=True)\n",
    "arr = df['others_11'].values\n",
    "non_zero_indices = np.nonzero(arr)\n",
    "non_zero_values = arr[non_zero_indices]\n",
    "np.unique(non_zero_values)\n",
    "# non_zero_values.size\n",
    "\n",
    "median_value = df['others_11'].median()\n",
    "\n",
    "df['others_11'].fillna(median_value, inplace=True)"
   ]
  },
  {
   "cell_type": "code",
   "execution_count": 35,
   "metadata": {},
   "outputs": [],
   "source": [
    "arr = df['others_10'].values\n",
    "non_zero_indices = np.nonzero(arr)\n",
    "non_zero_values = arr[non_zero_indices]\n",
    "np.unique(non_zero_values)\n",
    "# len(non_zero_indices[0])\n",
    "median_value = df['others_10'].median()\n",
    "\n",
    "df['others_10'].fillna(median_value, inplace=True)"
   ]
  },
  {
   "cell_type": "code",
   "execution_count": 36,
   "metadata": {},
   "outputs": [],
   "source": [
    "arr = df['others_6'].values\n",
    "non_zero_indices = np.nonzero(arr)\n",
    "non_zero_values = arr[non_zero_indices]\n",
    "np.unique(non_zero_values)\n",
    "# len(non_zero_indices[0])\n",
    "median_value = df['others_6'].median()\n",
    "\n",
    "df['others_6'].fillna(median_value, inplace=True)"
   ]
  },
  {
   "cell_type": "code",
   "execution_count": 37,
   "metadata": {},
   "outputs": [],
   "source": [
    "arr = df['others_9'].values\n",
    "non_zero_indices = np.nonzero(arr)\n",
    "non_zero_values = arr[non_zero_indices]\n",
    "np.unique(non_zero_values)\n",
    "# len(non_zero_indices[0])\n",
    "median_value = df['others_9'].median()\n",
    "\n",
    "df['others_9'].fillna(median_value, inplace=True)"
   ]
  },
  {
   "cell_type": "code",
   "execution_count": 38,
   "metadata": {},
   "outputs": [],
   "source": [
    "arr = df['demog_30'].values\n",
    "non_zero_indices = np.nonzero(arr)\n",
    "non_zero_values = arr[non_zero_indices]\n",
    "np.unique(non_zero_values)\n",
    "len(non_zero_indices[0])\n",
    "mode_value = df['demog_30'].mode()\n",
    "\n",
    "df['demog_30'].fillna(mode_value, inplace=True)"
   ]
  },
  {
   "cell_type": "code",
   "execution_count": 39,
   "metadata": {},
   "outputs": [],
   "source": [
    "arr = df['demog_38'].values\n",
    "non_zero_indices = np.nonzero(arr)\n",
    "non_zero_values = arr[non_zero_indices]\n",
    "np.unique(non_zero_values)\n",
    "len(non_zero_indices[0])\n",
    "mode_value = df['demog_38'].mode()\n",
    "\n",
    "df['demog_38'].fillna(mode_value, inplace=True)"
   ]
  },
  {
   "cell_type": "code",
   "execution_count": 40,
   "metadata": {},
   "outputs": [],
   "source": [
    "arr = df['demog_7'].values\n",
    "non_zero_indices = np.nonzero(arr)\n",
    "non_zero_values = arr[non_zero_indices]\n",
    "# print(np.unique(arr))\n",
    "# print(np.unique(non_zero_values))\n",
    "# print(len(non_zero_indices[0]))\n",
    "mode_value = df['demog_7'].mode()\n",
    "df['demog_7'].fillna(mode_value, inplace=True)"
   ]
  },
  {
   "cell_type": "code",
   "execution_count": 41,
   "metadata": {},
   "outputs": [],
   "source": [
    "for i in range(30, 39):\n",
    "    column_name = f'demog_{i}'\n",
    "    arr = df[column_name].values\n",
    "    non_zero_indices = np.nonzero(arr)\n",
    "    non_zero_values = arr[non_zero_indices]\n",
    "    # print(f\"Column {column_name}:\")\n",
    "    # print(\"Unique values:\", np.unique(arr))\n",
    "    # print(\"Unique non-zero values:\", np.unique(non_zero_values))\n",
    "    # print(\"Non-zero count:\", len(non_zero_indices[0]))\n",
    "    mode_value = df[column_name].mode().iloc[0]  # Extract the mode value\n",
    "    df[column_name].fillna(mode_value, inplace=True)  # Fill missing values with the mode value\n"
   ]
  },
  {
   "cell_type": "code",
   "execution_count": 42,
   "metadata": {},
   "outputs": [],
   "source": [
    "df['others_8'] = df_og['others_8']\n",
    "arr = df['others_8'].values\n",
    "non_zero_indices = np.nonzero(arr)\n",
    "non_zero_values = arr[non_zero_indices]\n",
    "# print(np.unique(arr))\n",
    "# print(np.unique(non_zero_values))\n",
    "# print(len(non_zero_indices[0]))\n",
    "median_value = df['others_8'].median()\n",
    "df['others_8'].fillna(median_value, inplace=True)"
   ]
  },
  {
   "cell_type": "code",
   "execution_count": 43,
   "metadata": {},
   "outputs": [],
   "source": [
    "# Replace 'Y' with 1 and 'N' with 0 in 'demog_10' column\n",
    "df['demog_10'] = df['demog_10'].replace({'Y': 1, 'N': 0})\n",
    "\n",
    "# Find mode of 'demog_10' column\n",
    "mode_value = df['demog_10'].mode().iloc[0]  # Extract the mode value\n",
    "\n",
    "# Fill missing values in 'demog_10' column with the mode value\n",
    "df['demog_10'].fillna(mode_value, inplace=True)"
   ]
  },
  {
   "cell_type": "code",
   "execution_count": 44,
   "metadata": {},
   "outputs": [
    {
     "name": "stdout",
     "output_type": "stream",
     "text": [
      "[ 1. nan]\n",
      "[ 1. nan]\n",
      "100000\n"
     ]
    }
   ],
   "source": [
    "df['demog_7'] = df_og['demog_7']\n",
    "arr = df['demog_7'].values\n",
    "non_zero_indices = np.nonzero(arr)\n",
    "non_zero_values = arr[non_zero_indices]\n",
    "print(np.unique(arr))\n",
    "print(np.unique(non_zero_values))\n",
    "print(len(non_zero_indices[0]))\n",
    "median_value = df['demog_7'].median()\n",
    "df['demog_7'].fillna(median_value, inplace=True)"
   ]
  },
  {
   "cell_type": "code",
   "execution_count": 45,
   "metadata": {},
   "outputs": [],
   "source": [
    "unique_strings = df['income'].unique()\n",
    "# print(unique_strings)\n",
    "# print(len(unique_strings))\n",
    "\n",
    "# Define a mapping dictionary for replacing income categories with numerical values\n",
    "income_mapping = {\n",
    "    0: 0,\n",
    "    '0 to 1L': 1,\n",
    "    '100001 to 5L': 2,\n",
    "    '5L to 10L': 3,\n",
    "    '10L to 25L': 4,\n",
    "    '25L to 50L': 5,\n",
    "    '50L to 3Crore': 6,\n",
    "    '3Crore to 5Crore': 7,\n",
    "    '5Crore to 10Crore': 8,\n",
    "    '10Crore to 15Crore': 9,\n",
    "    '15Crore to 20Crore': 10,\n",
    "    '20Crore to 35Crore': 11,\n",
    "}\n",
    "\n",
    "# Fill NaN values in the 'income' column with a default numerical value (e.g., 0)\n",
    "df['income'] = df['income'].fillna(-1)\n",
    "\n",
    "# Replace the remaining string values in the 'income' column with numerical values\n",
    "df['income'] = df['income'].replace(income_mapping)\n"
   ]
  },
  {
   "cell_type": "code",
   "execution_count": 46,
   "metadata": {},
   "outputs": [
    {
     "name": "stdout",
     "output_type": "stream",
     "text": [
      "[101. 102. 103. 104. 105. 106. 168. 213.  nan]\n",
      "[101. 102. 103. 104. 105. 106. 168. 213.  nan]\n",
      "100000\n"
     ]
    }
   ],
   "source": [
    "arr = df['demog_3'].values\n",
    "non_zero_indices = np.nonzero(arr)\n",
    "non_zero_values = arr[non_zero_indices]\n",
    "print(np.unique(arr))\n",
    "print(np.unique(non_zero_values))\n",
    "print(len(non_zero_indices[0]))\n",
    "median_value = df['demog_3'].median()\n",
    "df['demog_3'].fillna(median_value, inplace=True)"
   ]
  },
  {
   "cell_type": "code",
   "execution_count": 47,
   "metadata": {},
   "outputs": [
    {
     "name": "stdout",
     "output_type": "stream",
     "text": [
      "309\n"
     ]
    }
   ],
   "source": [
    "unique_strings = df['others_28'].unique()\n",
    "# print(unique_strings)\n",
    "print(len(unique_strings))\n",
    "count = sum(df['others_28'][i] == 9999 for i in range(100000))\n",
    "# print(count)\n",
    "median_value = df['others_28'].median()\n",
    "df['others_28'].fillna(median_value, inplace=True)"
   ]
  },
  {
   "cell_type": "code",
   "execution_count": 48,
   "metadata": {},
   "outputs": [
    {
     "name": "stdout",
     "output_type": "stream",
     "text": [
      "224\n"
     ]
    }
   ],
   "source": [
    "unique_strings = df['others_27'].unique()\n",
    "# print(unique_strings)\n",
    "print(len(unique_strings))\n",
    "count = sum(df['others_27'][i] == 9999 for i in range(100000))\n",
    "# print(count)\n",
    "median_value = df['others_27'].median()\n",
    "df['others_27'].fillna(median_value, inplace=True)"
   ]
  },
  {
   "cell_type": "code",
   "execution_count": 49,
   "metadata": {},
   "outputs": [
    {
     "name": "stdout",
     "output_type": "stream",
     "text": [
      "Number of unique values: 5\n",
      "Number of zeros: 0\n"
     ]
    }
   ],
   "source": [
    "# Get unique values in the 'demog_5' column\n",
    "unique_values = df['demog_5'].unique()\n",
    "print(\"Number of unique values:\", len(unique_values))\n",
    "\n",
    "# Count occurrences of value 0 in the 'demog_5' column\n",
    "count_zeros = sum(df['demog_5'] == 0)\n",
    "print(\"Number of zeros:\", count_zeros)\n",
    "\n",
    "# Calculate median of the 'demog_5' column\n",
    "median_value = df['demog_5'].median()\n",
    "\n",
    "# Fill missing values in the 'demog_5' column with the median value\n",
    "df['demog_5'].fillna(median_value, inplace=True)"
   ]
  },
  {
   "cell_type": "code",
   "execution_count": 50,
   "metadata": {},
   "outputs": [
    {
     "name": "stdout",
     "output_type": "stream",
     "text": [
      "Number of unique values: 96\n",
      "Number of zeros: 1\n"
     ]
    }
   ],
   "source": [
    "unique_values = df['demog_26'].unique()\n",
    "print(\"Number of unique values:\", len(unique_values))\n",
    "\n",
    "count_zeros = sum(df['demog_26'] == 0)\n",
    "print(\"Number of zeros:\", count_zeros)\n",
    "\n",
    "median_value = df['demog_26'].median()\n",
    "\n",
    "df['demog_26'].fillna(median_value, inplace=True)"
   ]
  },
  {
   "cell_type": "code",
   "execution_count": 51,
   "metadata": {},
   "outputs": [
    {
     "name": "stdout",
     "output_type": "stream",
     "text": [
      "Number of unique values: 14976\n",
      "Number of zeros: 0\n"
     ]
    }
   ],
   "source": [
    "unique_values = df['demog_24'].unique()\n",
    "print(\"Number of unique values:\", len(unique_values))\n",
    "\n",
    "count_zeros = sum(df['demog_24'] == 0)\n",
    "print(\"Number of zeros:\", count_zeros)\n",
    "\n",
    "mean_value = df['demog_24'].mean()\n",
    "mean_value = round(mean_value)\n",
    "df['demog_24'].fillna(mean_value, inplace=True)"
   ]
  },
  {
   "cell_type": "code",
   "execution_count": 52,
   "metadata": {},
   "outputs": [
    {
     "name": "stdout",
     "output_type": "stream",
     "text": [
      "Number of unique values: 3\n",
      "Number of zeros: 656\n"
     ]
    }
   ],
   "source": [
    "unique_values = df['demog_16'].unique()\n",
    "print(\"Number of unique values:\", len(unique_values))\n",
    "\n",
    "count_zeros = sum(df['demog_16'] == 0)\n",
    "print(\"Number of zeros:\", count_zeros)\n",
    "\n",
    "mode_value = df['demog_16'].mode()\n",
    "mode_value = round(mode_value)\n",
    "df['demog_16'].fillna(mode_value, inplace=True)"
   ]
  },
  {
   "cell_type": "code",
   "execution_count": 53,
   "metadata": {},
   "outputs": [
    {
     "name": "stdout",
     "output_type": "stream",
     "text": [
      "Number of unique values: 3\n",
      "Number of zeros: 656\n",
      "Number of unique values: 3\n",
      "Number of zeros: 21160\n",
      "Number of unique values: 3\n",
      "Number of zeros: 96821\n",
      "Number of unique values: 3\n",
      "Number of zeros: 4763\n"
     ]
    }
   ],
   "source": [
    "unique_values = df['demog_16'].unique()\n",
    "print(\"Number of unique values:\", len(unique_values))\n",
    "\n",
    "count_zeros = sum(df['demog_16'] == 0)\n",
    "print(\"Number of zeros:\", count_zeros)\n",
    "\n",
    "median_value = df['demog_16'].median()\n",
    "median_value = round(median_value)\n",
    "df['demog_16'].fillna(median_value, inplace=True)\n",
    "\n",
    "\n",
    "unique_values = df['demog_15'].unique()\n",
    "print(\"Number of unique values:\", len(unique_values))\n",
    "count_zeros = sum(df['demog_15'] == 0)\n",
    "print(\"Number of zeros:\", count_zeros)\n",
    "\n",
    "median_value = df['demog_15'].median()\n",
    "median_value = round(median_value)\n",
    "df['demog_15'].fillna(median_value, inplace=True)\n",
    "\n",
    "unique_values = df['demog_14'].unique()\n",
    "print(\"Number of unique values:\", len(unique_values))\n",
    "\n",
    "count_zeros = sum(df['demog_14'] == 0)\n",
    "print(\"Number of zeros:\", count_zeros)\n",
    "\n",
    "median_value = df['demog_14'].median()\n",
    "median_value = round(median_value)\n",
    "df['demog_14'].fillna(median_value, inplace=True)\n",
    "\n",
    "unique_values = df['demog_13'].unique()\n",
    "print(\"Number of unique values:\", len(unique_values))\n",
    "\n",
    "count_zeros = sum(df['demog_13'] == 0)\n",
    "print(\"Number of zeros:\", count_zeros)\n",
    "\n",
    "median_value = df['demog_13'].median()\n",
    "median_value = round(median_value)\n",
    "df['demog_13'].fillna(median_value, inplace=True)"
   ]
  },
  {
   "cell_type": "code",
   "execution_count": 54,
   "metadata": {},
   "outputs": [],
   "source": [
    "unique_strings = df['country_code'].unique()\n",
    "unique_dict = {value: index+1 for index, value in enumerate(df['country_code'].unique())}\n",
    "\n",
    "# Replace values in 'country_code' column with their corresponding index values\n",
    "df['country_code'] = df['country_code'].map(unique_dict)\n",
    "\n",
    "df['country_code'].fillna(0, inplace=True)"
   ]
  },
  {
   "cell_type": "code",
   "execution_count": 55,
   "metadata": {},
   "outputs": [
    {
     "data": {
      "text/plain": [
       "array([3, 1, 6, 2, 5, 7, 4, 10, nan, 11, 17, 15, 16, 9, 'ZZ'],\n",
       "      dtype=object)"
      ]
     },
     "execution_count": 55,
     "metadata": {},
     "output_type": "execute_result"
    }
   ],
   "source": [
    "unique_strings = df['demog_2'].unique()\n",
    "df['demog_2'] = df['demog_2'].replace('ZZ', 0)\n",
    "unique_strings"
   ]
  },
  {
   "cell_type": "code",
   "execution_count": 56,
   "metadata": {},
   "outputs": [],
   "source": [
    "median_value = df['demog_2'].median()\n",
    "median_value = round(median_value)\n",
    "df['demog_2'].fillna(median_value, inplace=True)"
   ]
  },
  {
   "cell_type": "code",
   "execution_count": 57,
   "metadata": {},
   "outputs": [],
   "source": [
    "unique_strings = df['demog_1'].unique()\n",
    "median_value = df['demog_1'].median()\n",
    "median_value = round(median_value)\n",
    "df['demog_1'].fillna(median_value, inplace=True)"
   ]
  },
  {
   "cell_type": "code",
   "execution_count": 58,
   "metadata": {},
   "outputs": [],
   "source": [
    "unique_strings = df['demog_43'].unique()\n",
    "unique_dict = {value: index+1 for index, value in enumerate(df['demog_43'].unique())}\n",
    "df['demog_43'] = df['demog_43'].map(unique_dict)"
   ]
  },
  {
   "cell_type": "code",
   "execution_count": 59,
   "metadata": {},
   "outputs": [],
   "source": [
    "median_value = df['demog_8'].median()\n",
    "median_value = round(median_value)\n",
    "# Fill missing values in the 'demog_5' column with the median value\n",
    "df['demog_8'].fillna(median_value, inplace=True)"
   ]
  },
  {
   "cell_type": "code",
   "execution_count": 60,
   "metadata": {},
   "outputs": [],
   "source": [
    "unique_strings = df['demog_40'].unique()\n",
    "unique_dict = {value: index for index, value in enumerate(df['demog_40'].unique())}\n",
    "df['demog_40'] = df['demog_40'].map(unique_dict)"
   ]
  },
  {
   "cell_type": "code",
   "execution_count": 61,
   "metadata": {},
   "outputs": [],
   "source": [
    "unique_strings = df['city_tier'].unique()\n",
    "unique_dict = {value: index for index, value in enumerate(df['city_tier'].unique())}\n",
    "df['city_tier'] = df['city_tier'].map(unique_dict)"
   ]
  },
  {
   "cell_type": "code",
   "execution_count": 62,
   "metadata": {},
   "outputs": [],
   "source": [
    "unique_strings = df['demog_4'].unique()\n",
    "unique_dict = {value: index for index, value in enumerate(df['demog_4'].unique())}\n",
    "df['demog_4'] = df['demog_4'].map(unique_dict)"
   ]
  },
  {
   "cell_type": "code",
   "execution_count": 63,
   "metadata": {},
   "outputs": [],
   "source": [
    "median_value = df['demog_9'].median()\n",
    "median_value = round(median_value)\n",
    "df['demog_9'].fillna(median_value, inplace=True)"
   ]
  },
  {
   "cell_type": "code",
   "execution_count": 64,
   "metadata": {},
   "outputs": [],
   "source": [
    "from sklearn.experimental import enable_iterative_imputer\n",
    "from sklearn.impute import IterativeImputer\n",
    "\n",
    "# Initialize the MICE imputer\n",
    "mice_imputer = IterativeImputer()\n",
    "\n",
    "# Perform MICE imputation on 'others_5'\n",
    "df['others_5'] = mice_imputer.fit_transform(df[['others_5']]).round()"
   ]
  },
  {
   "cell_type": "code",
   "execution_count": 65,
   "metadata": {},
   "outputs": [],
   "source": [
    "for i in range(21, 27):\n",
    "    column_name = f'others_{i}'\n",
    "    # Perform MICE imputation on the column and round off to nearest integer\n",
    "    df[column_name] = mice_imputer.fit_transform(df[[column_name]]).round()"
   ]
  },
  {
   "cell_type": "code",
   "execution_count": 66,
   "metadata": {},
   "outputs": [],
   "source": [
    "for i in range(1, 82):\n",
    "    column_name = f'txn_{i}'\n",
    "    df[column_name] = mice_imputer.fit_transform(df[[column_name]]).round()"
   ]
  },
  {
   "cell_type": "code",
   "execution_count": 67,
   "metadata": {},
   "outputs": [],
   "source": [
    "df['os'].unique()\n",
    "os_mapping = {'ios':0, 'and':1}\n",
    "df['os'] = df['os'].map(os_mapping)"
   ]
  },
  {
   "cell_type": "code",
   "execution_count": 68,
   "metadata": {},
   "outputs": [],
   "source": [
    "df['os'].fillna(-1, inplace=True) "
   ]
  },
  {
   "cell_type": "code",
   "execution_count": 69,
   "metadata": {},
   "outputs": [],
   "source": [
    "df['others_15'] = mice_imputer.fit_transform(df[['others_15']]).round()\n",
    "df['others_16'] = mice_imputer.fit_transform(df[['others_16']]).round()\n",
    "df['others_17'] = mice_imputer.fit_transform(df[['others_17']]).round()"
   ]
  },
  {
   "cell_type": "code",
   "execution_count": 70,
   "metadata": {},
   "outputs": [],
   "source": [
    "df.drop(['others_42', 'others_43', 'others_44', 'others_45'], axis=1, inplace=True)"
   ]
  },
  {
   "cell_type": "code",
   "execution_count": 71,
   "metadata": {},
   "outputs": [],
   "source": [
    "unique_strings = df['email_domain'].unique()\n",
    "unique_dict = {value: index for index, value in enumerate(df['email_domain'].unique())}\n",
    "df['email_domain'] = df['email_domain'].map(unique_dict)"
   ]
  },
  {
   "cell_type": "code",
   "execution_count": 72,
   "metadata": {},
   "outputs": [
    {
     "name": "stderr",
     "output_type": "stream",
     "text": [
      "C:\\Users\\Rithvik\\AppData\\Local\\Temp\\ipykernel_12960\\1870426970.py:1: PerformanceWarning: DataFrame is highly fragmented.  This is usually the result of calling `frame.insert` many times, which has poor performance.  Consider joining all columns at once using pd.concat(axis=1) instead. To get a de-fragmented frame, use `newframe = frame.copy()`\n",
      "  df['opening_year'] = df['account_opening_date'].dt.year\n",
      "C:\\Users\\Rithvik\\AppData\\Local\\Temp\\ipykernel_12960\\1870426970.py:2: PerformanceWarning: DataFrame is highly fragmented.  This is usually the result of calling `frame.insert` many times, which has poor performance.  Consider joining all columns at once using pd.concat(axis=1) instead. To get a de-fragmented frame, use `newframe = frame.copy()`\n",
      "  df['opening_month'] = df['account_opening_date'].dt.month\n",
      "C:\\Users\\Rithvik\\AppData\\Local\\Temp\\ipykernel_12960\\1870426970.py:3: PerformanceWarning: DataFrame is highly fragmented.  This is usually the result of calling `frame.insert` many times, which has poor performance.  Consider joining all columns at once using pd.concat(axis=1) instead. To get a de-fragmented frame, use `newframe = frame.copy()`\n",
      "  df['opening_day'] = df['account_opening_date'].dt.day\n"
     ]
    }
   ],
   "source": [
    "df['opening_year'] = df['account_opening_date'].dt.year\n",
    "df['opening_month'] = df['account_opening_date'].dt.month\n",
    "df['opening_day'] = df['account_opening_date'].dt.day\n",
    "df.drop(['account_opening_date'], axis=1, inplace=True)"
   ]
  },
  {
   "cell_type": "code",
   "execution_count": 73,
   "metadata": {},
   "outputs": [
    {
     "data": {
      "text/html": [
       "<div>\n",
       "<style scoped>\n",
       "    .dataframe tbody tr th:only-of-type {\n",
       "        vertical-align: middle;\n",
       "    }\n",
       "\n",
       "    .dataframe tbody tr th {\n",
       "        vertical-align: top;\n",
       "    }\n",
       "\n",
       "    .dataframe thead th {\n",
       "        text-align: right;\n",
       "    }\n",
       "</style>\n",
       "<table border=\"1\" class=\"dataframe\">\n",
       "  <thead>\n",
       "    <tr style=\"text-align: right;\">\n",
       "      <th></th>\n",
       "      <th>Primary key</th>\n",
       "      <th>Target</th>\n",
       "      <th>country_code</th>\n",
       "      <th>demog_1</th>\n",
       "      <th>demog_2</th>\n",
       "      <th>income</th>\n",
       "      <th>demog_3</th>\n",
       "      <th>city_tier</th>\n",
       "      <th>occupation</th>\n",
       "      <th>demog_4</th>\n",
       "      <th>...</th>\n",
       "      <th>txn_81</th>\n",
       "      <th>demog_39</th>\n",
       "      <th>email_domain</th>\n",
       "      <th>demog_40</th>\n",
       "      <th>demog_41</th>\n",
       "      <th>demog_42</th>\n",
       "      <th>demog_43</th>\n",
       "      <th>opening_year</th>\n",
       "      <th>opening_month</th>\n",
       "      <th>opening_day</th>\n",
       "    </tr>\n",
       "  </thead>\n",
       "  <tbody>\n",
       "    <tr>\n",
       "      <th>0</th>\n",
       "      <td>1</td>\n",
       "      <td>0</td>\n",
       "      <td>1</td>\n",
       "      <td>53.0</td>\n",
       "      <td>3.0</td>\n",
       "      <td>2</td>\n",
       "      <td>101.0</td>\n",
       "      <td>0</td>\n",
       "      <td>1</td>\n",
       "      <td>0</td>\n",
       "      <td>...</td>\n",
       "      <td>1.0</td>\n",
       "      <td>1</td>\n",
       "      <td>0</td>\n",
       "      <td>0</td>\n",
       "      <td>1</td>\n",
       "      <td>1</td>\n",
       "      <td>1</td>\n",
       "      <td>2023</td>\n",
       "      <td>2</td>\n",
       "      <td>18</td>\n",
       "    </tr>\n",
       "    <tr>\n",
       "      <th>1</th>\n",
       "      <td>2</td>\n",
       "      <td>0</td>\n",
       "      <td>1</td>\n",
       "      <td>55.0</td>\n",
       "      <td>1.0</td>\n",
       "      <td>1</td>\n",
       "      <td>101.0</td>\n",
       "      <td>1</td>\n",
       "      <td>2</td>\n",
       "      <td>0</td>\n",
       "      <td>...</td>\n",
       "      <td>28.0</td>\n",
       "      <td>1</td>\n",
       "      <td>0</td>\n",
       "      <td>1</td>\n",
       "      <td>1</td>\n",
       "      <td>1</td>\n",
       "      <td>2</td>\n",
       "      <td>2023</td>\n",
       "      <td>2</td>\n",
       "      <td>1</td>\n",
       "    </tr>\n",
       "    <tr>\n",
       "      <th>2</th>\n",
       "      <td>3</td>\n",
       "      <td>0</td>\n",
       "      <td>1</td>\n",
       "      <td>55.0</td>\n",
       "      <td>3.0</td>\n",
       "      <td>1</td>\n",
       "      <td>101.0</td>\n",
       "      <td>2</td>\n",
       "      <td>1</td>\n",
       "      <td>0</td>\n",
       "      <td>...</td>\n",
       "      <td>48.0</td>\n",
       "      <td>1</td>\n",
       "      <td>0</td>\n",
       "      <td>2</td>\n",
       "      <td>1</td>\n",
       "      <td>1</td>\n",
       "      <td>2</td>\n",
       "      <td>2022</td>\n",
       "      <td>12</td>\n",
       "      <td>9</td>\n",
       "    </tr>\n",
       "    <tr>\n",
       "      <th>3</th>\n",
       "      <td>4</td>\n",
       "      <td>0</td>\n",
       "      <td>1</td>\n",
       "      <td>53.0</td>\n",
       "      <td>3.0</td>\n",
       "      <td>2</td>\n",
       "      <td>101.0</td>\n",
       "      <td>3</td>\n",
       "      <td>1</td>\n",
       "      <td>0</td>\n",
       "      <td>...</td>\n",
       "      <td>10.0</td>\n",
       "      <td>1</td>\n",
       "      <td>0</td>\n",
       "      <td>1</td>\n",
       "      <td>1</td>\n",
       "      <td>1</td>\n",
       "      <td>2</td>\n",
       "      <td>2023</td>\n",
       "      <td>3</td>\n",
       "      <td>31</td>\n",
       "    </tr>\n",
       "    <tr>\n",
       "      <th>4</th>\n",
       "      <td>5</td>\n",
       "      <td>0</td>\n",
       "      <td>1</td>\n",
       "      <td>55.0</td>\n",
       "      <td>6.0</td>\n",
       "      <td>1</td>\n",
       "      <td>101.0</td>\n",
       "      <td>1</td>\n",
       "      <td>3</td>\n",
       "      <td>0</td>\n",
       "      <td>...</td>\n",
       "      <td>23.0</td>\n",
       "      <td>1</td>\n",
       "      <td>0</td>\n",
       "      <td>0</td>\n",
       "      <td>1</td>\n",
       "      <td>1</td>\n",
       "      <td>1</td>\n",
       "      <td>2023</td>\n",
       "      <td>1</td>\n",
       "      <td>17</td>\n",
       "    </tr>\n",
       "  </tbody>\n",
       "</table>\n",
       "<p>5 rows × 176 columns</p>\n",
       "</div>"
      ],
      "text/plain": [
       "   Primary key  Target  country_code  demog_1  demog_2  income  demog_3  \\\n",
       "0            1       0             1     53.0      3.0       2    101.0   \n",
       "1            2       0             1     55.0      1.0       1    101.0   \n",
       "2            3       0             1     55.0      3.0       1    101.0   \n",
       "3            4       0             1     53.0      3.0       2    101.0   \n",
       "4            5       0             1     55.0      6.0       1    101.0   \n",
       "\n",
       "   city_tier  occupation  demog_4  ...  txn_81  demog_39  email_domain  \\\n",
       "0          0           1        0  ...     1.0         1             0   \n",
       "1          1           2        0  ...    28.0         1             0   \n",
       "2          2           1        0  ...    48.0         1             0   \n",
       "3          3           1        0  ...    10.0         1             0   \n",
       "4          1           3        0  ...    23.0         1             0   \n",
       "\n",
       "   demog_40  demog_41  demog_42  demog_43  opening_year  opening_month  \\\n",
       "0         0         1         1         1          2023              2   \n",
       "1         1         1         1         2          2023              2   \n",
       "2         2         1         1         2          2022             12   \n",
       "3         1         1         1         2          2023              3   \n",
       "4         0         1         1         1          2023              1   \n",
       "\n",
       "   opening_day  \n",
       "0           18  \n",
       "1            1  \n",
       "2            9  \n",
       "3           31  \n",
       "4           17  \n",
       "\n",
       "[5 rows x 176 columns]"
      ]
     },
     "execution_count": 73,
     "metadata": {},
     "output_type": "execute_result"
    }
   ],
   "source": [
    "df.head()"
   ]
  },
  {
   "cell_type": "code",
   "execution_count": 74,
   "metadata": {},
   "outputs": [],
   "source": [
    "# Save the cleaned data to a new CSV file\n",
    "df.to_csv('new_data_imputed.csv', index=False)"
   ]
  },
  {
   "cell_type": "code",
   "execution_count": 75,
   "metadata": {},
   "outputs": [
    {
     "name": "stdout",
     "output_type": "stream",
     "text": [
      "Index([], dtype='object')\n"
     ]
    }
   ],
   "source": [
    "# Check if any columns have NaN values\n",
    "columns_with_nan = df.columns[df.isnull().any()]\n",
    "print(columns_with_nan)"
   ]
  }
 ],
 "metadata": {
  "kernelspec": {
   "display_name": "Python 3",
   "language": "python",
   "name": "python3"
  },
  "language_info": {
   "codemirror_mode": {
    "name": "ipython",
    "version": 3
   },
   "file_extension": ".py",
   "mimetype": "text/x-python",
   "name": "python",
   "nbconvert_exporter": "python",
   "pygments_lexer": "ipython3",
   "version": "3.11.3"
  }
 },
 "nbformat": 4,
 "nbformat_minor": 2
}
